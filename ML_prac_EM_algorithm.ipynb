{
  "nbformat": 4,
  "nbformat_minor": 0,
  "metadata": {
    "colab": {
      "name": "ML prac EM algorithm",
      "provenance": [],
      "collapsed_sections": []
    },
    "kernelspec": {
      "name": "python3",
      "display_name": "Python 3"
    }
  },
  "cells": [
    {
      "cell_type": "code",
      "metadata": {
        "id": "nVoVDe1SmSVq"
      },
      "source": [
        "import pandas as pd\n",
        "import matplotlib.pyplot as plt\n",
        "from sklearn.mixture import GaussianMixture"
      ],
      "execution_count": null,
      "outputs": []
    },
    {
      "cell_type": "code",
      "metadata": {
        "id": "k4wTT1Iw-rFW"
      },
      "source": [
        "data = pd.read_csv('EM dataset.csv')"
      ],
      "execution_count": null,
      "outputs": []
    },
    {
      "cell_type": "code",
      "metadata": {
        "colab": {
          "base_uri": "https://localhost:8080/",
          "height": 457
        },
        "id": "3-bX6mdDAbwV",
        "outputId": "38a525e7-c45c-43a2-8702-7f0b746b935d"
      },
      "source": [
        "plt.figure(figsize=(7,7))\n",
        "plt.scatter(data[\"Weight\"],data[\"Height\"])\n",
        "plt.xlabel('Weight')\n",
        "plt.ylabel('Height')\n",
        "plt.title('Data Distribution')\n",
        "plt.show()"
      ],
      "execution_count": null,
      "outputs": [
        {
          "output_type": "display_data",
          "data": {
            "image/png": "[encoded data removed]",
            "text/plain": [
              "<Figure size 504x504 with 1 Axes>"
            ]
          },
          "metadata": {
            "tags": [],
            "needs_background": "light"
          }
        }
      ]
    },
    {
      "cell_type": "code",
      "metadata": {
        "colab": {
          "base_uri": "https://localhost:8080/"
        },
        "id": "ZRYq3I1pAeQG",
        "outputId": "6fadb4ca-80f5-47a4-885a-dce5ecb7338e"
      },
      "source": [
        "gmm = GaussianMixture(n_components = 4)\n",
        "gmm.fit(data)"
      ],
      "execution_count": null,
      "outputs": [
        {
          "output_type": "execute_result",
          "data": {
            "text/plain": [
              "GaussianMixture(covariance_type='full', init_params='kmeans', max_iter=100,\n",
              "                means_init=None, n_components=4, n_init=1, precisions_init=None,\n",
              "                random_state=None, reg_covar=1e-06, tol=0.001, verbose=0,\n",
              "                verbose_interval=10, warm_start=False, weights_init=None)"
            ]
          },
          "metadata": {
            "tags": []
          },
          "execution_count": 9
        }
      ]
    },
    {
      "cell_type": "code",
      "metadata": {
        "colab": {
          "base_uri": "https://localhost:8080/"
        },
        "id": "cihGJ1ezAiY_",
        "outputId": "59ea21c9-8bdc-4e52-bdb4-18f42b6520f9"
      },
      "source": [
        "print(\"Means:\",gmm.means_)"
      ],
      "execution_count": null,
      "outputs": [
        {
          "output_type": "stream",
          "text": [
            "Means: [[ 60.65944689 170.03409967]\n",
            " [ 53.60032216 162.76480188]\n",
            " [ 67.51014715 175.97136573]\n",
            " [ 63.29374518 169.26263398]]\n"
          ],
          "name": "stdout"
        }
      ]
    },
    {
      "cell_type": "code",
      "metadata": {
        "colab": {
          "base_uri": "https://localhost:8080/"
        },
        "id": "52KozzO8ApYs",
        "outputId": "ec93ac6e-378e-45a0-8b41-ca4cd3c97c23"
      },
      "source": [
        "print(\"Covariances:\",gmm.covariances_)"
      ],
      "execution_count": null,
      "outputs": [
        {
          "output_type": "stream",
          "text": [
            "Covariances: [[[1.31511714 0.97508692]\n",
            "  [0.97508692 1.08379767]]\n",
            "\n",
            " [[1.24923233 0.95686493]\n",
            "  [0.95686493 1.02835847]]\n",
            "\n",
            " [[1.30083701 0.97751266]\n",
            "  [0.97751266 1.15396626]]\n",
            "\n",
            " [[1.56967116 1.12232885]\n",
            "  [1.12232885 1.1367498 ]]]\n"
          ],
          "name": "stdout"
        }
      ]
    }
  ]
}